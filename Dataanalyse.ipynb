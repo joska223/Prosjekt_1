{
 "cells": [
  {
   "cell_type": "code",
   "execution_count": null,
   "metadata": {},
   "outputs": [
    {
     "name": "stdout",
     "output_type": "stream",
     "text": [
      "Index(['id', 'name', 'first', 'last', 'compas_screening_date', 'sex', 'dob',\n",
      "       'age', 'age_cat', 'race', 'juv_fel_count', 'decile_score',\n",
      "       'juv_misd_count', 'juv_other_count', 'priors_count',\n",
      "       'days_b_screening_arrest', 'c_jail_in', 'c_jail_out', 'c_case_number',\n",
      "       'c_offense_date', 'c_arrest_date', 'c_days_from_compas',\n",
      "       'c_charge_degree', 'c_charge_desc', 'is_recid', 'r_case_number',\n",
      "       'r_charge_degree', 'r_days_from_arrest', 'r_offense_date',\n",
      "       'r_charge_desc', 'r_jail_in', 'r_jail_out', 'violent_recid',\n",
      "       'is_violent_recid', 'vr_case_number', 'vr_charge_degree',\n",
      "       'vr_offense_date', 'vr_charge_desc', 'type_of_assessment',\n",
      "       'decile_score.1', 'score_text', 'screening_date',\n",
      "       'v_type_of_assessment', 'v_decile_score', 'v_score_text',\n",
      "       'v_screening_date', 'in_custody', 'out_custody', 'priors_count.1',\n",
      "       'start', 'end', 'event', 'two_year_recid'],\n",
      "      dtype='object')\n"
     ]
    }
   ],
   "source": [
    "#a)\n",
    "import pandas as pd\n",
    "data = pd.read_csv(\"compas-scores-two-years.csv\")\n",
    "data = data[data[\"days_b_screening_arrest\"] <= 30]\n",
    "data = data[data[\"days_b_screening_arrest\"] >= -30]\n",
    "def prosent(x):\n",
    "    return round(x*100,1)\n"
   ]
  },
  {
   "cell_type": "code",
   "execution_count": null,
   "metadata": {},
   "outputs": [
    {
     "name": "stdout",
     "output_type": "stream",
     "text": [
      "Hele befolkning:\n",
      "falsk positiv:  37.0 %\n",
      "sann positiv:  63.0 %\n",
      "falsk negativ:  31.5 %\n",
      "sann negativ:  68.5 %\n",
      "\n",
      "for  Male :\n",
      "falsk positiv:  34.6 %\n",
      "sann positiv:  65.4 %\n",
      "falsk negativ:  33.4 %\n",
      "sann negativ:  66.6 %\n",
      "\n",
      "for  Female :\n",
      "falsk positiv:  48.3 %\n",
      "sann positiv:  51.7 %\n",
      "falsk negativ:  23.9 %\n",
      "sann negativ:  76.1 %\n",
      "\n",
      "for  Caucasian :\n",
      "falsk positiv:  40.5 %\n",
      "sann positiv:  59.5 %\n",
      "falsk negativ:  29.0 %\n",
      "sann negativ:  71.0 %\n",
      "\n",
      "for  African-American :\n",
      "falsk positiv:  35.0 %\n",
      "sann positiv:  65.0 %\n",
      "falsk negativ:  35.1 %\n",
      "sann negativ:  64.9 %\n",
      "\n"
     ]
    }
   ],
   "source": [
    "#b)\n",
    "def finn_sannsynligheter(data):\n",
    "    #Finner de som ble klassifisert som høy eller lav risiko:\n",
    "    High_risk = data[data[\"score_text\"].isin([\"Medium\",\"High\"])]\n",
    "    Low_risk = data[data[\"score_text\"] == \"Low\"]\n",
    "\n",
    "    #Finner hvor bra COMPAS gjorde det:\n",
    "    Falsk_positiv = High_risk[High_risk[\"two_year_recid\"] == 0]\n",
    "    Sann_positiv = High_risk[High_risk[\"two_year_recid\"] >= 1]\n",
    "    Falsk_negativ = Low_risk[Low_risk[\"two_year_recid\"] >= 1]\n",
    "    Sann_negativ = Low_risk[Low_risk[\"two_year_recid\"] == 0]\n",
    "\n",
    "    #Finner estimerte sannsynlihgetsverdier:\n",
    "    p_Falsk_positiv = Falsk_positiv.size/High_risk.size\n",
    "    p_Sann_positiv = Sann_positiv.size/High_risk.size\n",
    "    p_Falsk_negativ = Falsk_negativ.size/Low_risk.size\n",
    "    p_Sann_negativ = Sann_negativ.size/Low_risk.size\n",
    "    \n",
    "    \n",
    "    return p_Falsk_positiv, p_Sann_positiv, p_Falsk_negativ, p_Sann_negativ\n",
    "\n",
    "def print_sannsynligheter(data):\n",
    "    p_Falsk_positiv, p_Sann_positiv, p_Falsk_negativ, p_Sann_negativ = finn_sannsynligheter(data)\n",
    "    #Printer sannsynlighetsverdiene:\n",
    "    print(\"falsk positiv: \",prosent(p_Falsk_positiv),\"%\")\n",
    "    print(\"sann positiv: \",prosent(p_Sann_positiv),\"%\")\n",
    "    print(\"falsk negativ: \",prosent(p_Falsk_negativ),\"%\")\n",
    "    print(\"sann negativ: \",prosent(p_Sann_negativ),\"%\")\n",
    "    print()\n",
    "\n",
    "#Finner de forskjellige typene raser:\n",
    "print(\"Hele befolkning:\")\n",
    "print_sannsynligheter(data)\n",
    "\n",
    "for kjønn in [\"Male\",\"Female\"]:\n",
    "    nydata = data[data[\"sex\"] == kjønn]\n",
    "    print(\"for \",kjønn,\":\")\n",
    "    print_sannsynligheter(nydata)\n",
    "\n",
    "for rase in [\"Caucasian\",\"African-American\"]:\n",
    "    nydata = data[data[\"race\"] == rase]\n",
    "    print(\"for \",rase,\":\")\n",
    "    print_sannsynligheter(nydata)\n"
   ]
  },
  {
   "cell_type": "code",
   "execution_count": 15,
   "metadata": {},
   "outputs": [
    {
     "name": "stdout",
     "output_type": "stream",
     "text": [
      "sannsynlighet for å være afroamerikaner gitt at man er misklassifisert: 69.4 %\n",
      "Sannsynlighet for å være afro amerikaner gitt at man har tilbakefall:  66.9 %\n"
     ]
    }
   ],
   "source": [
    "def p_misklassifisert(key,category,data,keys=None,risk=\"High\"):\n",
    "    \"\"\"\n",
    "    Gir sannsynligheten for at man har blit misklassifisert som høy risiko, \n",
    "    gitt at man er i en viss kategori (rase, kjønn, etc)\n",
    "\n",
    "    f: står for feil\n",
    "    k: står for at det er den spesifikke kategorien.\n",
    "    \"\"\"\n",
    "    #Finner de som ble klassifisert som høy risiko:\n",
    "    if keys!=None:\n",
    "        data = data[data[category].isin(keys)]\n",
    "    if risk == \"High\":\n",
    "        High_risk = data[data[\"score_text\"].isin([\"Medium\",\"High\"])]\n",
    "    else:\n",
    "        High_risk = data[data[\"score_text\"] == \"Low\"]\n",
    "\n",
    "    #Finner hvor bra COMPAS gjorde det:\n",
    "    if risk == \"High\":\n",
    "        Falsk_positiv = High_risk[High_risk[\"two_year_recid\"] == 0]\n",
    "    else:\n",
    "        Falsk_positiv = High_risk[High_risk[\"two_year_recid\"] != 0]\n",
    "\n",
    "    #P(misklassifisert):\n",
    "    p_f=(Falsk_positiv.size)/High_risk.size\n",
    "\n",
    "    #P(misklassifisert|man er i kategorien)\n",
    "    p_f_k = (Falsk_positiv[Falsk_positiv[category] == key].size\n",
    "             /High_risk[High_risk[category] == key].size)\n",
    "    \n",
    "    #P(man er i kategorien)\n",
    "    p_k = High_risk[High_risk[category] == key].size/High_risk.size\n",
    "    \n",
    "    #Her bruker jeg bayes setning:\n",
    "    #P(man er i kategorien| man er misklassifisert)\n",
    "    p_k_f = (p_f_k*p_k)/p_f\n",
    "\n",
    "    return p_k_f\n",
    "\n",
    "print(\"sannsynlighet for å være afroamerikaner gitt at man er misklassifisert:\", prosent(p_misklassifisert(\"African-American\",\"race\",data,[\"African-American\",\"Caucasian\"],risk = \"High\")),\"%\")\n",
    "#print(p_misklassifisert(\"Caucasian\",\"race\",data,[\"African-American\",\"Caucasian\"],risk = \"High\"))\n",
    "\n",
    "def p_etnisitet(key,category,data,keys):\n",
    "    \"\"\"\n",
    "    Gir sannsynligheten for å være en gitt etnisitet, gitt at man begår en gjentagende forbrytelse\n",
    "    \"\"\"\n",
    "    if keys!=None:\n",
    "        data = data[data[category].isin(keys)]\n",
    "    \n",
    "    data_etnisitet = data[data[category] == key]\n",
    "\n",
    "    p_f = data[data[\"two_year_recid\"] != 0].size/data.size\n",
    "    p_f_k = data_etnisitet[data_etnisitet[\"two_year_recid\"] != 0].size/data_etnisitet.size\n",
    "    p_k = data_etnisitet.size/data.size\n",
    "\n",
    "    p_k_f = (p_f_k*p_k)/p_f\n",
    "\n",
    "    return p_k_f\n",
    "\n",
    "print(\"Sannsynlighet for å være afro amerikaner gitt at man har tilbakefall: \",prosent(p_etnisitet(\"African-American\",\"race\",data,[\"African-American\",\"Caucasian\"])),\"%\")\n",
    "            "
   ]
  },
  {
   "cell_type": "code",
   "execution_count": 9,
   "metadata": {},
   "outputs": [
    {
     "name": "stdout",
     "output_type": "stream",
     "text": [
      "racial bias from logistic model: 1.45\n",
      "accuracy of model:  75.1 %\n"
     ]
    },
    {
     "data": {
      "image/png": "[encoded data removed]",
      "text/plain": [
       "<Figure size 640x480 with 12 Axes>"
      ]
     },
     "metadata": {},
     "output_type": "display_data"
    }
   ],
   "source": [
    "import sklearn.linear_model as skl\n",
    "import sklearn.metrics as skm\n",
    "import numpy as np\n",
    "\n",
    "X = data[[\"age_cat\", \"race\", \"sex\", \"priors_count\", \"c_charge_degree\", \"two_year_recid\"]]\n",
    "#X = data[[\"age_cat\", \"race\", \"sex\", \"priors_count\", \"c_charge_degree\", \"two_year_recid\",\"juv_fel_count\",\"juv_misd_count\",\"juv_other_count\"]]\n",
    "categorical_cols = [\"age_cat\", \"race\", \"sex\", \"c_charge_degree\"]\n",
    "X = pd.get_dummies(X, columns=categorical_cols, prefix=categorical_cols, prefix_sep='_')\n",
    "X = X.drop([\"age_cat_25 - 45\", \"race_Caucasian\", \"sex_Male\", \"c_charge_degree_F\"], axis=1)\n",
    "Y = data[\"score_text\"] != \"Low\"\n",
    "\n",
    "model = skl.LogisticRegression(max_iter = 1000)\n",
    "model.fit(X,Y)\n",
    "coef = model.coef_[0][list(X.columns).index(\"race_African-American\")]\n",
    "#coef = model.coef_[0][list(X.columns).index(\"sex_Female\")]\n",
    "\n",
    "def sigmoid(x):\n",
    "    return np.where(x>0,1/(1+np.exp(-x)),np.exp(x)/(1+np.exp(x)))\n",
    "b = model.intercept_\n",
    "\n",
    "control = sigmoid( b )\n",
    "racialBias = np.exp( coef) / (1 - control + (control * np.exp(coef)))\n",
    "print(\"racial bias from logistic model:\",round(racialBias[0],2))\n",
    "from sklearn.inspection import  PartialDependenceDisplay\n",
    "PartialDependenceDisplay.from_estimator(model, X,[0,1,2,3,4,5,6,7,8,9,10])\n",
    "print(\"accuracy of model: \",round(skm.accuracy_score(model.predict(X),Y)*100,1),\"%\")"
   ]
  },
  {
   "cell_type": "code",
   "execution_count": 13,
   "metadata": {},
   "outputs": [
    {
     "name": "stdout",
     "output_type": "stream",
     "text": [
      "Caucasian  accuracy:  63.8 %\n",
      "bias:  -0.17\n",
      "\n",
      "African-American  accuracy:  61.9 %\n",
      "bias:  -0.09\n",
      "\n"
     ]
    }
   ],
   "source": [
    "for race in [\"Caucasian\",\"African-American\"]:\n",
    "    Race_data=data[data[\"race\"] == race]\n",
    "    Race_y = Race_data[\"two_year_recid\"].apply(lambda x: 1 if x>=1 else 0)\n",
    "    Race_pred = Race_data[\"v_score_text\"].map({\"Low\":0,\"Medium\":1,\"High\":1})\n",
    "    print(race,\" accuracy: \",round(skm.accuracy_score(Race_pred,Race_y)*100,1),\"%\")\n",
    "    bias_array = Race_pred.to_numpy()-Race_y.to_numpy()\n",
    "    bias = np.sum(bias_array)/len(bias_array)\n",
    "    print(\"bias: \",round(bias,2))\n",
    "    print()\n"
   ]
  }
 ],
 "metadata": {
  "kernelspec": {
   "display_name": "base",
   "language": "python",
   "name": "python3"
  },
  "language_info": {
   "codemirror_mode": {
    "name": "ipython",
    "version": 3
   },
   "file_extension": ".py",
   "mimetype": "text/x-python",
   "name": "python",
   "nbconvert_exporter": "python",
   "pygments_lexer": "ipython3",
   "version": "3.12.4"
  }
 },
 "nbformat": 4,
 "nbformat_minor": 2
}
