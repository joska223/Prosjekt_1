{
 "cells": [
  {
   "cell_type": "code",
   "execution_count": null,
   "metadata": {},
   "outputs": [
    {
     "data": {
      "text/plain": [
       "Index(['id', 'name', 'first', 'last', 'compas_screening_date', 'sex', 'dob',\n",
       "       'age', 'age_cat', 'race', 'juv_fel_count', 'decile_score',\n",
       "       'juv_misd_count', 'juv_other_count', 'priors_count',\n",
       "       'days_b_screening_arrest', 'c_jail_in', 'c_jail_out', 'c_case_number',\n",
       "       'c_offense_date', 'c_arrest_date', 'c_days_from_compas',\n",
       "       'c_charge_degree', 'c_charge_desc', 'is_recid', 'r_case_number',\n",
       "       'r_charge_degree', 'r_days_from_arrest', 'r_offense_date',\n",
       "       'r_charge_desc', 'r_jail_in', 'r_jail_out', 'violent_recid',\n",
       "       'is_violent_recid', 'vr_case_number', 'vr_charge_degree',\n",
       "       'vr_offense_date', 'vr_charge_desc', 'type_of_assessment',\n",
       "       'decile_score.1', 'score_text', 'screening_date',\n",
       "       'v_type_of_assessment', 'v_decile_score', 'v_score_text',\n",
       "       'v_screening_date', 'in_custody', 'out_custody', 'priors_count.1',\n",
       "       'start', 'end', 'event', 'two_year_recid'],\n",
       "      dtype='object')"
      ]
     },
     "metadata": {},
     "output_type": "display_data"
    },
    {
     "name": "stdout",
     "output_type": "stream",
     "text": [
      "['Other' 'African-American' 'Caucasian' 'Hispanic' 'Asian'\n",
      " 'Native American']\n"
     ]
    }
   ],
   "source": [
    "#a)\n",
    "import pandas as pd\n",
    "data = pd.read_csv(\"compas-scores-two-years.csv\")\n",
    "data = data[data[\"days_b_screening_arrest\"] <= 30]\n",
    "data = data[data[\"days_b_screening_arrest\"] >= -30]\n",
    "#display(data.columns)\n",
    "#print(data[\"race\"].unique())"
   ]
  },
  {
   "cell_type": "code",
   "execution_count": 13,
   "metadata": {},
   "outputs": [
    {
     "name": "stdout",
     "output_type": "stream",
     "text": [
      "Hele befolkning:\n",
      "falsk positiv:  0.37004725554343876\n",
      "sann positiv:  0.6299527444565612\n",
      "falsk negativ:  0.31452791581408945\n",
      "sann negativ:  0.6854720841859105\n",
      "\n",
      "for  Male :\n",
      "falsk positiv:  0.3463736263736264\n",
      "sann positiv:  0.6536263736263737\n",
      "falsk negativ:  0.33394562821454815\n",
      "sann negativ:  0.6660543717854519\n",
      "\n",
      "for  Female :\n",
      "falsk positiv:  0.4831932773109244\n",
      "sann positiv:  0.5168067226890757\n",
      "falsk negativ:  0.23891273247496422\n",
      "sann negativ:  0.7610872675250357\n",
      "\n",
      "for  Caucasian :\n",
      "falsk positiv:  0.4051724137931034\n",
      "sann positiv:  0.5948275862068966\n",
      "falsk negativ:  0.2899786780383795\n",
      "sann negativ:  0.7100213219616205\n",
      "\n",
      "for  African-American :\n",
      "falsk positiv:  0.35046473482777474\n",
      "sann positiv:  0.6495352651722253\n",
      "falsk negativ:  0.3514115898959881\n",
      "sann negativ:  0.6485884101040119\n",
      "\n"
     ]
    }
   ],
   "source": [
    "#b)\n",
    "def print_sannsynligheter(data):\n",
    "    #Finner de som ble klassifisert som høy eller lav risiko:\n",
    "    High_risk = data[data[\"score_text\"].isin([\"Medium\",\"High\"])]\n",
    "    Low_risk = data[data[\"score_text\"] == \"Low\"]\n",
    "\n",
    "    #Finner hvor bra COMPAS gjorde det:\n",
    "    Falsk_positiv = High_risk[High_risk[\"two_year_recid\"] == 0]\n",
    "    Sann_positiv = High_risk[High_risk[\"two_year_recid\"] >= 1]\n",
    "    Falsk_negativ = Low_risk[Low_risk[\"two_year_recid\"] >= 1]\n",
    "    Sann_negativ = Low_risk[Low_risk[\"two_year_recid\"] == 0]\n",
    "\n",
    "    #Finner estimerte sannsynlihgetsverdier:\n",
    "    p_Falsk_positiv = Falsk_positiv.size/High_risk.size\n",
    "    p_Sann_positiv = Sann_positiv.size/High_risk.size\n",
    "    p_Falsk_negativ = Falsk_negativ.size/Low_risk.size\n",
    "    p_Sann_negativ = Sann_negativ.size/Low_risk.size\n",
    "\n",
    "    #Printer sannsynlighetsverdiene:\n",
    "    print(\"falsk positiv: \",p_Falsk_positiv)\n",
    "    print(\"sann positiv: \",p_Sann_positiv)\n",
    "    print(\"falsk negativ: \",p_Falsk_negativ)\n",
    "    print(\"sann negativ: \",p_Sann_negativ)\n",
    "    print()\n",
    "\n",
    "#Finner de forskjellige typene raser:\n",
    "print(\"Hele befolkning:\")\n",
    "print_sannsynligheter(data)\n",
    "\n",
    "for kjønn in [\"Male\",\"Female\"]:\n",
    "    nydata = data[data[\"sex\"] == kjønn]\n",
    "    print(\"for \",kjønn,\":\")\n",
    "    print_sannsynligheter(nydata)\n",
    "\n",
    "for rase in [\"Caucasian\",\"African-American\"]:\n",
    "    nydata = data[data[\"race\"] == rase]\n",
    "    print(\"for \",rase,\":\")\n",
    "    print_sannsynligheter(nydata)\n"
   ]
  },
  {
   "cell_type": "code",
   "execution_count": null,
   "metadata": {},
   "outputs": [],
   "source": []
  }
 ],
 "metadata": {
  "kernelspec": {
   "display_name": "base",
   "language": "python",
   "name": "python3"
  },
  "language_info": {
   "codemirror_mode": {
    "name": "ipython",
    "version": 3
   },
   "file_extension": ".py",
   "mimetype": "text/x-python",
   "name": "python",
   "nbconvert_exporter": "python",
   "pygments_lexer": "ipython3",
   "version": "3.12.4"
  }
 },
 "nbformat": 4,
 "nbformat_minor": 2
}
