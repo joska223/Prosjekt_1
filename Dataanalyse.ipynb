{
 "cells": [
  {
   "cell_type": "code",
   "execution_count": null,
   "metadata": {},
   "outputs": [],
   "source": [
    "#a)\n",
    "import pandas as pd\n",
    "data = pd.read_csv(\"compas-scores-two-years.csv\")\n",
    "data = data[data[\"days_b_screening_arrest\"] <= 30]\n",
    "data = data[data[\"days_b_screening_arrest\"] >= -30]\n",
    "#display(data.columns)"
   ]
  },
  {
   "cell_type": "code",
   "execution_count": null,
   "metadata": {},
   "outputs": [
    {
     "name": "stdout",
     "output_type": "stream",
     "text": [
      "falsk positiv:  0.37004725554343876\n",
      "sann positiv:  0.6299527444565612\n",
      "\n",
      "falsk negativ:  0.31452791581408945\n",
      "sann negativ:  0.6854720841859105\n"
     ]
    }
   ],
   "source": [
    "#b)\n",
    "#Finner de som ble klassifisert som høy eller lav risiko:\n",
    "High_risk = data[data[\"score_text\"].isin([\"Medium\",\"High\"])]\n",
    "Low_risk = data[data[\"score_text\"] == \"Low\"]\n",
    "\n",
    "#Finner hvor bra COMPAS gjorde det:\n",
    "Falsk_positiv = High_risk[High_risk[\"two_year_recid\"] == 0]\n",
    "Sann_positiv = High_risk[High_risk[\"two_year_recid\"] >= 1]\n",
    "Falsk_negativ = Low_risk[Low_risk[\"two_year_recid\"] >= 1]\n",
    "Sann_negativ = Low_risk[Low_risk[\"two_year_recid\"] == 0]\n",
    "\n",
    "#Finner estimerte sannsynlihgetsverdier:\n",
    "p_Falsk_positiv = Falsk_positiv.size/High_risk.size\n",
    "p_Sann_positiv = Sann_positiv.size/High_risk.size\n",
    "p_Falsk_negativ = Falsk_negativ.size/Low_risk.size\n",
    "p_Sann_negativ = Sann_negativ.size/Low_risk.size\n",
    "\n",
    "#Printer sannsynlighetsverdiene:\n",
    "print(\"falsk positiv: \",p_Falsk_positiv)\n",
    "print(\"sann positiv: \",p_Sann_positiv)\n",
    "print()\n",
    "print(\"falsk negativ: \",p_Falsk_negativ)\n",
    "print(\"sann negativ: \",p_Sann_negativ)"
   ]
  }
 ],
 "metadata": {
  "kernelspec": {
   "display_name": "base",
   "language": "python",
   "name": "python3"
  },
  "language_info": {
   "codemirror_mode": {
    "name": "ipython",
    "version": 3
   },
   "file_extension": ".py",
   "mimetype": "text/x-python",
   "name": "python",
   "nbconvert_exporter": "python",
   "pygments_lexer": "ipython3",
   "version": "3.12.4"
  }
 },
 "nbformat": 4,
 "nbformat_minor": 2
}
