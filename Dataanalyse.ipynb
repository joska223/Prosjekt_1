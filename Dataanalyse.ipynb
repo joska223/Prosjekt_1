{
 "cells": [
  {
   "cell_type": "code",
   "execution_count": 3,
   "metadata": {},
   "outputs": [
    {
     "name": "stdout",
     "output_type": "stream",
     "text": [
      "['Other' 'African-American' 'Caucasian' 'Hispanic' 'Asian'\n",
      " 'Native American']\n"
     ]
    }
   ],
   "source": [
    "#a)\n",
    "import pandas as pd\n",
    "data = pd.read_csv(\"compas-scores-two-years.csv\")\n",
    "data = data[data[\"days_b_screening_arrest\"] <= 30]\n",
    "data = data[data[\"days_b_screening_arrest\"] >= -30]\n",
    "#display(data.columns)\n",
    "print(data[\"race\"].unique())\n",
    "#display(data)"
   ]
  },
  {
   "cell_type": "code",
   "execution_count": 4,
   "metadata": {},
   "outputs": [
    {
     "name": "stdout",
     "output_type": "stream",
     "text": [
      "Hele befolkning:\n",
      "falsk positiv:  0.37004725554343876\n",
      "sann positiv:  0.6299527444565612\n",
      "falsk negativ:  0.31452791581408945\n",
      "sann negativ:  0.6854720841859105\n",
      "\n",
      "for  Male :\n",
      "falsk positiv:  0.3463736263736264\n",
      "sann positiv:  0.6536263736263737\n",
      "falsk negativ:  0.33394562821454815\n",
      "sann negativ:  0.6660543717854519\n",
      "\n",
      "for  Female :\n",
      "falsk positiv:  0.4831932773109244\n",
      "sann positiv:  0.5168067226890757\n",
      "falsk negativ:  0.23891273247496422\n",
      "sann negativ:  0.7610872675250357\n",
      "\n",
      "for  Caucasian :\n",
      "falsk positiv:  0.4051724137931034\n",
      "sann positiv:  0.5948275862068966\n",
      "falsk negativ:  0.2899786780383795\n",
      "sann negativ:  0.7100213219616205\n",
      "\n",
      "for  African-American :\n",
      "falsk positiv:  0.35046473482777474\n",
      "sann positiv:  0.6495352651722253\n",
      "falsk negativ:  0.3514115898959881\n",
      "sann negativ:  0.6485884101040119\n",
      "\n"
     ]
    }
   ],
   "source": [
    "#b)\n",
    "def finn_sannsynligheter(data):\n",
    "    #Finner de som ble klassifisert som høy eller lav risiko:\n",
    "    High_risk = data[data[\"score_text\"].isin([\"Medium\",\"High\"])]\n",
    "    Low_risk = data[data[\"score_text\"] == \"Low\"]\n",
    "\n",
    "    #Finner hvor bra COMPAS gjorde det:\n",
    "    Falsk_positiv = High_risk[High_risk[\"two_year_recid\"] == 0]\n",
    "    Sann_positiv = High_risk[High_risk[\"two_year_recid\"] >= 1]\n",
    "    Falsk_negativ = Low_risk[Low_risk[\"two_year_recid\"] >= 1]\n",
    "    Sann_negativ = Low_risk[Low_risk[\"two_year_recid\"] == 0]\n",
    "\n",
    "    #Finner estimerte sannsynlihgetsverdier:\n",
    "    p_Falsk_positiv = Falsk_positiv.size/High_risk.size\n",
    "    p_Sann_positiv = Sann_positiv.size/High_risk.size\n",
    "    p_Falsk_negativ = Falsk_negativ.size/Low_risk.size\n",
    "    p_Sann_negativ = Sann_negativ.size/Low_risk.size\n",
    "    return p_Falsk_positiv, p_Sann_positiv, p_Falsk_negativ, p_Sann_negativ\n",
    "\n",
    "def print_sannsynligheter(data):\n",
    "    p_Falsk_positiv, p_Sann_positiv, p_Falsk_negativ, p_Sann_negativ = finn_sannsynligheter(data)\n",
    "    #Printer sannsynlighetsverdiene:\n",
    "    print(\"falsk positiv: \",p_Falsk_positiv)\n",
    "    print(\"sann positiv: \",p_Sann_positiv)\n",
    "    print(\"falsk negativ: \",p_Falsk_negativ)\n",
    "    print(\"sann negativ: \",p_Sann_negativ)\n",
    "    print()\n",
    "\n",
    "#Finner de forskjellige typene raser:\n",
    "print(\"Hele befolkning:\")\n",
    "print_sannsynligheter(data)\n",
    "\n",
    "for kjønn in [\"Male\",\"Female\"]:\n",
    "    nydata = data[data[\"sex\"] == kjønn]\n",
    "    print(\"for \",kjønn,\":\")\n",
    "    print_sannsynligheter(nydata)\n",
    "\n",
    "for rase in [\"Caucasian\",\"African-American\"]:\n",
    "    nydata = data[data[\"race\"] == rase]\n",
    "    print(\"for \",rase,\":\")\n",
    "    print_sannsynligheter(nydata)\n"
   ]
  },
  {
   "cell_type": "code",
   "execution_count": 10,
   "metadata": {},
   "outputs": [
    {
     "name": "stdout",
     "output_type": "stream",
     "text": [
      "0.6944745395449621\n",
      "0.3055254604550379\n",
      "0.6689488521949255\n"
     ]
    }
   ],
   "source": [
    "def p_misklassifisert(key,category,data,keys=None,risk=\"High\"):\n",
    "    \"\"\"\n",
    "    Gir sannsynligheten for at man har blit misklassifisert som høy risiko, \n",
    "    gitt at man er i en viss kategori (rase, kjønn, etc)\n",
    "\n",
    "    f: står for feil\n",
    "    k: står for at det er den spesifikke kategorien.\n",
    "    \"\"\"\n",
    "    #Finner de som ble klassifisert som høy risiko:\n",
    "    if keys!=None:\n",
    "        data = data[data[category].isin(keys)]\n",
    "    if risk == \"High\":\n",
    "        High_risk = data[data[\"score_text\"].isin([\"Medium\",\"High\"])]\n",
    "    else:\n",
    "        High_risk = data[data[\"score_text\"] == \"Low\"]\n",
    "\n",
    "    #Finner hvor bra COMPAS gjorde det:\n",
    "    Falsk_positiv = High_risk[High_risk[\"two_year_recid\"] == 0]\n",
    "\n",
    "    #P(misklassifisert):\n",
    "    p_f=(Falsk_positiv.size)/High_risk.size\n",
    "\n",
    "    #P(misklassifisert|man er i kategorien)\n",
    "    p_f_k = (Falsk_positiv[Falsk_positiv[category] == key].size\n",
    "             /High_risk[High_risk[category] == key].size)\n",
    "    \n",
    "    #P(man er i kategorien)\n",
    "    p_k = High_risk[High_risk[category] == key].size/High_risk.size\n",
    "    \n",
    "    #Her bruker jeg bayes setning:\n",
    "    #P(man er i kategorien| man er misklassifisert)\n",
    "    p_k_f = (p_f_k*p_k)/p_f\n",
    "\n",
    "    return p_k_f\n",
    "\n",
    "print(p_misklassifisert(\"African-American\",\"race\",data,[\"African-American\",\"Caucasian\"],risk = \"High\"))\n",
    "print(p_misklassifisert(\"Caucasian\",\"race\",data,[\"African-American\",\"Caucasian\"],risk = \"High\"))\n",
    "\n",
    "def p_etnisitet(key,category,data,keys):\n",
    "    \"\"\"\n",
    "    Gir sannsynligheten for å være en gitt etnisitet, gitt at man begår en gjentagende forbrytelse\n",
    "    \"\"\"\n",
    "    if keys!=None:\n",
    "        data = data[data[category].isin(keys)]\n",
    "    \n",
    "    data_etnisitet = data[data[category] == key]\n",
    "\n",
    "    p_f = data[data[\"two_year_recid\"] != 0].size/data.size\n",
    "    p_f_k = data_etnisitet[data_etnisitet[\"two_year_recid\"] != 0].size/data_etnisitet.size\n",
    "    p_k = data_etnisitet.size/data.size\n",
    "\n",
    "    p_k_f = (p_f_k*p_k)/p_f\n",
    "\n",
    "    return p_k_f\n",
    "\n",
    "print(p_etnisitet(\"African-American\",\"race\",data,[\"African-American\",\"Caucasian\"]))\n",
    "            "
   ]
  },
  {
   "cell_type": "code",
   "execution_count": 6,
   "metadata": {},
   "outputs": [
    {
     "name": "stdout",
     "output_type": "stream",
     "text": [
      "<class 'pandas.core.series.Series'>\n",
      "Index: 6172 entries, 0 to 7213\n",
      "Series name: score_text\n",
      "Non-Null Count  Dtype\n",
      "--------------  -----\n",
      "6172 non-null   bool \n",
      "dtypes: bool(1)\n",
      "memory usage: 54.2 KB\n",
      "1.4536502300981715\n",
      "accuracy:  75.1 %\n",
      "[[ 0.26839009  0.68385171 -1.3438409   1.30070711  0.4781718  -0.29529593\n",
      "  -0.42257968  0.84204615 -0.80596423  0.21808218 -0.30914112]]\n"
     ]
    },
    {
     "data": {
      "image/png": "[encoded data removed]",
      "text/plain": [
       "<Figure size 640x480 with 2 Axes>"
      ]
     },
     "metadata": {},
     "output_type": "display_data"
    }
   ],
   "source": [
    "import sklearn.linear_model as skl\n",
    "import sklearn.metrics as skm\n",
    "import numpy as np\n",
    "\n",
    "X = data[[\"age_cat\", \"race\", \"sex\", \"priors_count\", \"c_charge_degree\", \"two_year_recid\"]]\n",
    "#X = data[[\"age_cat\", \"race\", \"sex\", \"priors_count\", \"c_charge_degree\", \"two_year_recid\",\"juv_fel_count\",\"juv_misd_count\",\"juv_other_count\"]]\n",
    "categorical_cols = [\"age_cat\", \"race\", \"sex\", \"c_charge_degree\"]\n",
    "X = pd.get_dummies(X, columns=categorical_cols, prefix=categorical_cols, prefix_sep='_')\n",
    "X = X.drop([\"age_cat_25 - 45\", \"race_Caucasian\", \"sex_Male\", \"c_charge_degree_F\"], axis=1)\n",
    "Y = data[\"score_text\"] != \"Low\"\n",
    "Y.info()\n",
    "\n",
    "model = skl.LogisticRegression(max_iter = 1000)\n",
    "model.fit(X,Y)\n",
    "coef = model.coef_[0][list(X.columns).index(\"race_African-American\")]\n",
    "#coef = model.coef_[0][list(X.columns).index(\"sex_Female\")]\n",
    "\n",
    "def sigmoid(x):\n",
    "    return np.where(x>0,1/(1+np.exp(-x)),np.exp(x)/(1+np.exp(x)))\n",
    "b = model.intercept_\n",
    "\n",
    "control = sigmoid( b )\n",
    "racialBias = np.exp( coef) / (1 - control + (control * np.exp(coef)))\n",
    "print(racialBias[0])\n",
    "from sklearn.inspection import  PartialDependenceDisplay\n",
    "PartialDependenceDisplay.from_estimator(model, X,[0])\n",
    "print(\"accuracy: \",round(skm.accuracy_score(model.predict(X),Y)*100,1),\"%\")\n",
    "print(model.coef_)"
   ]
  },
  {
   "cell_type": "code",
   "execution_count": 7,
   "metadata": {},
   "outputs": [
    {
     "name": "stdout",
     "output_type": "stream",
     "text": [
      "Caucasian  accuracy:  63.8 %\n",
      "bias:  -0.17\n",
      "\n",
      "African-American  accuracy:  61.9 %\n",
      "bias:  -0.09\n",
      "\n"
     ]
    }
   ],
   "source": [
    "for race in [\"Caucasian\",\"African-American\"]:\n",
    "    Race_data=data[data[\"race\"] == race]\n",
    "    Race_y = Race_data[\"two_year_recid\"].apply(lambda x: 1 if x>=1 else 0)\n",
    "    Race_pred = Race_data[\"v_score_text\"].map({\"Low\":0,\"Medium\":1,\"High\":1})\n",
    "    print(race,\" accuracy: \",round(skm.accuracy_score(Race_pred,Race_y)*100,1),\"%\")\n",
    "    bias_array = Race_pred.to_numpy()-Race_y.to_numpy()\n",
    "    bias = np.sum(bias_array)/len(bias_array)\n",
    "    print(\"bias: \",round(bias,2))\n",
    "    print()\n",
    "\n"
   ]
  }
 ],
 "metadata": {
  "kernelspec": {
   "display_name": "base",
   "language": "python",
   "name": "python3"
  },
  "language_info": {
   "codemirror_mode": {
    "name": "ipython",
    "version": 3
   },
   "file_extension": ".py",
   "mimetype": "text/x-python",
   "name": "python",
   "nbconvert_exporter": "python",
   "pygments_lexer": "ipython3",
   "version": "3.12.4"
  }
 },
 "nbformat": 4,
 "nbformat_minor": 2
}
